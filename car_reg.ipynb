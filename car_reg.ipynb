{
  "nbformat": 4,
  "nbformat_minor": 0,
  "metadata": {
    "colab": {
      "name": "car_reg.ipynb",
      "provenance": []
    },
    "kernelspec": {
      "name": "python3",
      "display_name": "Python 3"
    }
  },
  "cells": [
    {
      "cell_type": "code",
      "metadata": {
        "id": "dqSlHSi1Ubug"
      },
      "source": [
        "import numpy as np\n",
        "import matplotlib.pyplot as plt\n",
        "import pandas as pd"
      ],
      "execution_count": 1,
      "outputs": []
    },
    {
      "cell_type": "code",
      "metadata": {
        "id": "WW7W5vc4Ukpu",
        "outputId": "4eb023cc-d532-4895-a6e1-b0b55ca4de47",
        "colab": {
          "base_uri": "https://localhost:8080/",
          "height": 204
        }
      },
      "source": [
        "df = pd. read_csv('audi.csv')\n",
        "df.head()"
      ],
      "execution_count": 2,
      "outputs": [
        {
          "output_type": "execute_result",
          "data": {
            "text/html": [
              "<div>\n",
              "<style scoped>\n",
              "    .dataframe tbody tr th:only-of-type {\n",
              "        vertical-align: middle;\n",
              "    }\n",
              "\n",
              "    .dataframe tbody tr th {\n",
              "        vertical-align: top;\n",
              "    }\n",
              "\n",
              "    .dataframe thead th {\n",
              "        text-align: right;\n",
              "    }\n",
              "</style>\n",
              "<table border=\"1\" class=\"dataframe\">\n",
              "  <thead>\n",
              "    <tr style=\"text-align: right;\">\n",
              "      <th></th>\n",
              "      <th>model</th>\n",
              "      <th>year</th>\n",
              "      <th>price</th>\n",
              "      <th>transmission</th>\n",
              "      <th>mileage</th>\n",
              "      <th>fuelType</th>\n",
              "      <th>tax</th>\n",
              "      <th>mpg</th>\n",
              "      <th>engineSize</th>\n",
              "    </tr>\n",
              "  </thead>\n",
              "  <tbody>\n",
              "    <tr>\n",
              "      <th>0</th>\n",
              "      <td>A1</td>\n",
              "      <td>2017</td>\n",
              "      <td>12500</td>\n",
              "      <td>Manual</td>\n",
              "      <td>15735</td>\n",
              "      <td>Petrol</td>\n",
              "      <td>150</td>\n",
              "      <td>55.4</td>\n",
              "      <td>1.4</td>\n",
              "    </tr>\n",
              "    <tr>\n",
              "      <th>1</th>\n",
              "      <td>A6</td>\n",
              "      <td>2016</td>\n",
              "      <td>16500</td>\n",
              "      <td>Automatic</td>\n",
              "      <td>36203</td>\n",
              "      <td>Diesel</td>\n",
              "      <td>20</td>\n",
              "      <td>64.2</td>\n",
              "      <td>2.0</td>\n",
              "    </tr>\n",
              "    <tr>\n",
              "      <th>2</th>\n",
              "      <td>A1</td>\n",
              "      <td>2016</td>\n",
              "      <td>11000</td>\n",
              "      <td>Manual</td>\n",
              "      <td>29946</td>\n",
              "      <td>Petrol</td>\n",
              "      <td>30</td>\n",
              "      <td>55.4</td>\n",
              "      <td>1.4</td>\n",
              "    </tr>\n",
              "    <tr>\n",
              "      <th>3</th>\n",
              "      <td>A4</td>\n",
              "      <td>2017</td>\n",
              "      <td>16800</td>\n",
              "      <td>Automatic</td>\n",
              "      <td>25952</td>\n",
              "      <td>Diesel</td>\n",
              "      <td>145</td>\n",
              "      <td>67.3</td>\n",
              "      <td>2.0</td>\n",
              "    </tr>\n",
              "    <tr>\n",
              "      <th>4</th>\n",
              "      <td>A3</td>\n",
              "      <td>2019</td>\n",
              "      <td>17300</td>\n",
              "      <td>Manual</td>\n",
              "      <td>1998</td>\n",
              "      <td>Petrol</td>\n",
              "      <td>145</td>\n",
              "      <td>49.6</td>\n",
              "      <td>1.0</td>\n",
              "    </tr>\n",
              "  </tbody>\n",
              "</table>\n",
              "</div>"
            ],
            "text/plain": [
              "  model  year  price transmission  mileage fuelType  tax   mpg  engineSize\n",
              "0    A1  2017  12500       Manual    15735   Petrol  150  55.4         1.4\n",
              "1    A6  2016  16500    Automatic    36203   Diesel   20  64.2         2.0\n",
              "2    A1  2016  11000       Manual    29946   Petrol   30  55.4         1.4\n",
              "3    A4  2017  16800    Automatic    25952   Diesel  145  67.3         2.0\n",
              "4    A3  2019  17300       Manual     1998   Petrol  145  49.6         1.0"
            ]
          },
          "metadata": {
            "tags": []
          },
          "execution_count": 2
        }
      ]
    },
    {
      "cell_type": "code",
      "metadata": {
        "id": "BFS-IkjxWmgv",
        "outputId": "9ab9ebb1-9bf6-4fb7-ecbd-2fa5708f5e69",
        "colab": {
          "base_uri": "https://localhost:8080/",
          "height": 289
        }
      },
      "source": [
        "df.info()"
      ],
      "execution_count": 3,
      "outputs": [
        {
          "output_type": "stream",
          "text": [
            "<class 'pandas.core.frame.DataFrame'>\n",
            "RangeIndex: 10668 entries, 0 to 10667\n",
            "Data columns (total 9 columns):\n",
            " #   Column        Non-Null Count  Dtype  \n",
            "---  ------        --------------  -----  \n",
            " 0   model         10668 non-null  object \n",
            " 1   year          10668 non-null  int64  \n",
            " 2   price         10668 non-null  int64  \n",
            " 3   transmission  10668 non-null  object \n",
            " 4   mileage       10668 non-null  int64  \n",
            " 5   fuelType      10668 non-null  object \n",
            " 6   tax           10668 non-null  int64  \n",
            " 7   mpg           10668 non-null  float64\n",
            " 8   engineSize    10668 non-null  float64\n",
            "dtypes: float64(2), int64(4), object(3)\n",
            "memory usage: 750.2+ KB\n"
          ],
          "name": "stdout"
        }
      ]
    },
    {
      "cell_type": "code",
      "metadata": {
        "id": "qqOyqGyWXH0q",
        "outputId": "7e3988d4-e541-4bba-ed90-257e03d079b2",
        "colab": {
          "base_uri": "https://localhost:8080/",
          "height": 297
        }
      },
      "source": [
        "df.describe()"
      ],
      "execution_count": 4,
      "outputs": [
        {
          "output_type": "execute_result",
          "data": {
            "text/html": [
              "<div>\n",
              "<style scoped>\n",
              "    .dataframe tbody tr th:only-of-type {\n",
              "        vertical-align: middle;\n",
              "    }\n",
              "\n",
              "    .dataframe tbody tr th {\n",
              "        vertical-align: top;\n",
              "    }\n",
              "\n",
              "    .dataframe thead th {\n",
              "        text-align: right;\n",
              "    }\n",
              "</style>\n",
              "<table border=\"1\" class=\"dataframe\">\n",
              "  <thead>\n",
              "    <tr style=\"text-align: right;\">\n",
              "      <th></th>\n",
              "      <th>year</th>\n",
              "      <th>price</th>\n",
              "      <th>mileage</th>\n",
              "      <th>tax</th>\n",
              "      <th>mpg</th>\n",
              "      <th>engineSize</th>\n",
              "    </tr>\n",
              "  </thead>\n",
              "  <tbody>\n",
              "    <tr>\n",
              "      <th>count</th>\n",
              "      <td>10668.000000</td>\n",
              "      <td>10668.000000</td>\n",
              "      <td>10668.000000</td>\n",
              "      <td>10668.000000</td>\n",
              "      <td>10668.000000</td>\n",
              "      <td>10668.000000</td>\n",
              "    </tr>\n",
              "    <tr>\n",
              "      <th>mean</th>\n",
              "      <td>2017.100675</td>\n",
              "      <td>22896.685039</td>\n",
              "      <td>24827.244001</td>\n",
              "      <td>126.011436</td>\n",
              "      <td>50.770022</td>\n",
              "      <td>1.930709</td>\n",
              "    </tr>\n",
              "    <tr>\n",
              "      <th>std</th>\n",
              "      <td>2.167494</td>\n",
              "      <td>11714.841888</td>\n",
              "      <td>23505.257205</td>\n",
              "      <td>67.170294</td>\n",
              "      <td>12.949782</td>\n",
              "      <td>0.602957</td>\n",
              "    </tr>\n",
              "    <tr>\n",
              "      <th>min</th>\n",
              "      <td>1997.000000</td>\n",
              "      <td>1490.000000</td>\n",
              "      <td>1.000000</td>\n",
              "      <td>0.000000</td>\n",
              "      <td>18.900000</td>\n",
              "      <td>0.000000</td>\n",
              "    </tr>\n",
              "    <tr>\n",
              "      <th>25%</th>\n",
              "      <td>2016.000000</td>\n",
              "      <td>15130.750000</td>\n",
              "      <td>5968.750000</td>\n",
              "      <td>125.000000</td>\n",
              "      <td>40.900000</td>\n",
              "      <td>1.500000</td>\n",
              "    </tr>\n",
              "    <tr>\n",
              "      <th>50%</th>\n",
              "      <td>2017.000000</td>\n",
              "      <td>20200.000000</td>\n",
              "      <td>19000.000000</td>\n",
              "      <td>145.000000</td>\n",
              "      <td>49.600000</td>\n",
              "      <td>2.000000</td>\n",
              "    </tr>\n",
              "    <tr>\n",
              "      <th>75%</th>\n",
              "      <td>2019.000000</td>\n",
              "      <td>27990.000000</td>\n",
              "      <td>36464.500000</td>\n",
              "      <td>145.000000</td>\n",
              "      <td>58.900000</td>\n",
              "      <td>2.000000</td>\n",
              "    </tr>\n",
              "    <tr>\n",
              "      <th>max</th>\n",
              "      <td>2020.000000</td>\n",
              "      <td>145000.000000</td>\n",
              "      <td>323000.000000</td>\n",
              "      <td>580.000000</td>\n",
              "      <td>188.300000</td>\n",
              "      <td>6.300000</td>\n",
              "    </tr>\n",
              "  </tbody>\n",
              "</table>\n",
              "</div>"
            ],
            "text/plain": [
              "               year          price  ...           mpg    engineSize\n",
              "count  10668.000000   10668.000000  ...  10668.000000  10668.000000\n",
              "mean    2017.100675   22896.685039  ...     50.770022      1.930709\n",
              "std        2.167494   11714.841888  ...     12.949782      0.602957\n",
              "min     1997.000000    1490.000000  ...     18.900000      0.000000\n",
              "25%     2016.000000   15130.750000  ...     40.900000      1.500000\n",
              "50%     2017.000000   20200.000000  ...     49.600000      2.000000\n",
              "75%     2019.000000   27990.000000  ...     58.900000      2.000000\n",
              "max     2020.000000  145000.000000  ...    188.300000      6.300000\n",
              "\n",
              "[8 rows x 6 columns]"
            ]
          },
          "metadata": {
            "tags": []
          },
          "execution_count": 4
        }
      ]
    },
    {
      "cell_type": "code",
      "metadata": {
        "id": "YQqpBbuTY1an",
        "outputId": "6401523e-7718-42e1-f6d2-63d864615d37",
        "colab": {
          "base_uri": "https://localhost:8080/",
          "height": 34
        }
      },
      "source": [
        "df.shape"
      ],
      "execution_count": 5,
      "outputs": [
        {
          "output_type": "execute_result",
          "data": {
            "text/plain": [
              "(10668, 9)"
            ]
          },
          "metadata": {
            "tags": []
          },
          "execution_count": 5
        }
      ]
    },
    {
      "cell_type": "code",
      "metadata": {
        "id": "KSQgfiDLY31U",
        "outputId": "fc606c35-8f67-4d6a-bdd1-0bdb060692b5",
        "colab": {
          "base_uri": "https://localhost:8080/",
          "height": 204
        }
      },
      "source": [
        "df['year_diff'] = df[\"year\"].max() - df[\"year\"]\n",
        "df.head()"
      ],
      "execution_count": 6,
      "outputs": [
        {
          "output_type": "execute_result",
          "data": {
            "text/html": [
              "<div>\n",
              "<style scoped>\n",
              "    .dataframe tbody tr th:only-of-type {\n",
              "        vertical-align: middle;\n",
              "    }\n",
              "\n",
              "    .dataframe tbody tr th {\n",
              "        vertical-align: top;\n",
              "    }\n",
              "\n",
              "    .dataframe thead th {\n",
              "        text-align: right;\n",
              "    }\n",
              "</style>\n",
              "<table border=\"1\" class=\"dataframe\">\n",
              "  <thead>\n",
              "    <tr style=\"text-align: right;\">\n",
              "      <th></th>\n",
              "      <th>model</th>\n",
              "      <th>year</th>\n",
              "      <th>price</th>\n",
              "      <th>transmission</th>\n",
              "      <th>mileage</th>\n",
              "      <th>fuelType</th>\n",
              "      <th>tax</th>\n",
              "      <th>mpg</th>\n",
              "      <th>engineSize</th>\n",
              "      <th>year_diff</th>\n",
              "    </tr>\n",
              "  </thead>\n",
              "  <tbody>\n",
              "    <tr>\n",
              "      <th>0</th>\n",
              "      <td>A1</td>\n",
              "      <td>2017</td>\n",
              "      <td>12500</td>\n",
              "      <td>Manual</td>\n",
              "      <td>15735</td>\n",
              "      <td>Petrol</td>\n",
              "      <td>150</td>\n",
              "      <td>55.4</td>\n",
              "      <td>1.4</td>\n",
              "      <td>3</td>\n",
              "    </tr>\n",
              "    <tr>\n",
              "      <th>1</th>\n",
              "      <td>A6</td>\n",
              "      <td>2016</td>\n",
              "      <td>16500</td>\n",
              "      <td>Automatic</td>\n",
              "      <td>36203</td>\n",
              "      <td>Diesel</td>\n",
              "      <td>20</td>\n",
              "      <td>64.2</td>\n",
              "      <td>2.0</td>\n",
              "      <td>4</td>\n",
              "    </tr>\n",
              "    <tr>\n",
              "      <th>2</th>\n",
              "      <td>A1</td>\n",
              "      <td>2016</td>\n",
              "      <td>11000</td>\n",
              "      <td>Manual</td>\n",
              "      <td>29946</td>\n",
              "      <td>Petrol</td>\n",
              "      <td>30</td>\n",
              "      <td>55.4</td>\n",
              "      <td>1.4</td>\n",
              "      <td>4</td>\n",
              "    </tr>\n",
              "    <tr>\n",
              "      <th>3</th>\n",
              "      <td>A4</td>\n",
              "      <td>2017</td>\n",
              "      <td>16800</td>\n",
              "      <td>Automatic</td>\n",
              "      <td>25952</td>\n",
              "      <td>Diesel</td>\n",
              "      <td>145</td>\n",
              "      <td>67.3</td>\n",
              "      <td>2.0</td>\n",
              "      <td>3</td>\n",
              "    </tr>\n",
              "    <tr>\n",
              "      <th>4</th>\n",
              "      <td>A3</td>\n",
              "      <td>2019</td>\n",
              "      <td>17300</td>\n",
              "      <td>Manual</td>\n",
              "      <td>1998</td>\n",
              "      <td>Petrol</td>\n",
              "      <td>145</td>\n",
              "      <td>49.6</td>\n",
              "      <td>1.0</td>\n",
              "      <td>1</td>\n",
              "    </tr>\n",
              "  </tbody>\n",
              "</table>\n",
              "</div>"
            ],
            "text/plain": [
              "  model  year  price transmission  ...  tax   mpg  engineSize  year_diff\n",
              "0    A1  2017  12500       Manual  ...  150  55.4         1.4          3\n",
              "1    A6  2016  16500    Automatic  ...   20  64.2         2.0          4\n",
              "2    A1  2016  11000       Manual  ...   30  55.4         1.4          4\n",
              "3    A4  2017  16800    Automatic  ...  145  67.3         2.0          3\n",
              "4    A3  2019  17300       Manual  ...  145  49.6         1.0          1\n",
              "\n",
              "[5 rows x 10 columns]"
            ]
          },
          "metadata": {
            "tags": []
          },
          "execution_count": 6
        }
      ]
    },
    {
      "cell_type": "code",
      "metadata": {
        "id": "N62UQB1FabLW",
        "outputId": "cd1f77c1-14fa-4e2b-aa9c-492d496c5c0c",
        "colab": {
          "base_uri": "https://localhost:8080/",
          "height": 153
        }
      },
      "source": [
        "#encode model, transmission, fuelType\n",
        "from sklearn.preprocessing import LabelEncoder\n",
        "le = LabelEncoder()\n",
        "df[\"model\"] = le.fit_transform(df[\"model\"])\n",
        "le1 = LabelEncoder()\n",
        "df[\"transmission\"] = le1.fit_transform(df[\"transmission\"])\n",
        "le2 = LabelEncoder()\n",
        "df[\"fuelType\"] = le2.fit_transform(df[\"fuelType\"])\n",
        "print(df.head())"
      ],
      "execution_count": 7,
      "outputs": [
        {
          "output_type": "stream",
          "text": [
            "   model  year  price  transmission  ...  tax   mpg  engineSize  year_diff\n",
            "0      0  2017  12500             1  ...  150  55.4         1.4          3\n",
            "1      5  2016  16500             0  ...   20  64.2         2.0          4\n",
            "2      0  2016  11000             1  ...   30  55.4         1.4          4\n",
            "3      3  2017  16800             0  ...  145  67.3         2.0          3\n",
            "4      2  2019  17300             1  ...  145  49.6         1.0          1\n",
            "\n",
            "[5 rows x 10 columns]\n"
          ],
          "name": "stdout"
        }
      ]
    },
    {
      "cell_type": "code",
      "metadata": {
        "id": "WJHzrRjgoUiz",
        "outputId": "e47c3ada-0af2-4054-96d8-0d0a606d7635",
        "colab": {
          "base_uri": "https://localhost:8080/",
          "height": 306
        }
      },
      "source": [
        "df.info()"
      ],
      "execution_count": 8,
      "outputs": [
        {
          "output_type": "stream",
          "text": [
            "<class 'pandas.core.frame.DataFrame'>\n",
            "RangeIndex: 10668 entries, 0 to 10667\n",
            "Data columns (total 10 columns):\n",
            " #   Column        Non-Null Count  Dtype  \n",
            "---  ------        --------------  -----  \n",
            " 0   model         10668 non-null  int64  \n",
            " 1   year          10668 non-null  int64  \n",
            " 2   price         10668 non-null  int64  \n",
            " 3   transmission  10668 non-null  int64  \n",
            " 4   mileage       10668 non-null  int64  \n",
            " 5   fuelType      10668 non-null  int64  \n",
            " 6   tax           10668 non-null  int64  \n",
            " 7   mpg           10668 non-null  float64\n",
            " 8   engineSize    10668 non-null  float64\n",
            " 9   year_diff     10668 non-null  int64  \n",
            "dtypes: float64(2), int64(8)\n",
            "memory usage: 833.6 KB\n"
          ],
          "name": "stdout"
        }
      ]
    },
    {
      "cell_type": "code",
      "metadata": {
        "id": "vZ6-uhlqfSS_"
      },
      "source": [
        "X = df[[\"model\",\"transmission\",\"mileage\",\"fuelType\",\"tax\",\"mpg\",\"engineSize\",\"year_diff\"]]\n",
        "y = df[[\"price\"]]"
      ],
      "execution_count": 9,
      "outputs": []
    },
    {
      "cell_type": "code",
      "metadata": {
        "id": "z6_P4teEi0RG"
      },
      "source": [
        "from sklearn.model_selection import train_test_split\n",
        "X_train,X_test,y_train,y_test = train_test_split(X,y,test_size=0.25,random_state = 123)"
      ],
      "execution_count": 10,
      "outputs": []
    },
    {
      "cell_type": "code",
      "metadata": {
        "id": "40evTUQ2erjH"
      },
      "source": [
        "#Standard Scaling X and y\n",
        "from sklearn.preprocessing import StandardScaler\n",
        "sc = StandardScaler()\n",
        "X_train = sc.fit_transform(X_train)\n",
        "X_test = sc.transform(X_test)"
      ],
      "execution_count": 11,
      "outputs": []
    },
    {
      "cell_type": "markdown",
      "metadata": {
        "id": "sLZCC9QBr7Ap"
      },
      "source": [
        "Linear Regression"
      ]
    },
    {
      "cell_type": "code",
      "metadata": {
        "id": "BYLa6EQyrXI1",
        "outputId": "222a61fc-a431-468e-f23b-510c23d0c33d",
        "colab": {
          "base_uri": "https://localhost:8080/",
          "height": 34
        }
      },
      "source": [
        "from sklearn.linear_model import LinearRegression\n",
        "lr = LinearRegression()\n",
        "lr.fit(X_train,y_train)"
      ],
      "execution_count": 12,
      "outputs": [
        {
          "output_type": "execute_result",
          "data": {
            "text/plain": [
              "LinearRegression(copy_X=True, fit_intercept=True, n_jobs=None, normalize=False)"
            ]
          },
          "metadata": {
            "tags": []
          },
          "execution_count": 12
        }
      ]
    },
    {
      "cell_type": "code",
      "metadata": {
        "id": "MOPYF51k3rhE"
      },
      "source": [
        "y_pred = lr.predict(X_test)"
      ],
      "execution_count": 13,
      "outputs": []
    },
    {
      "cell_type": "code",
      "metadata": {
        "id": "pcp5qD2L4JkK",
        "outputId": "62424a4a-442f-4bbe-f0de-f2cf3818f996",
        "colab": {
          "base_uri": "https://localhost:8080/",
          "height": 34
        }
      },
      "source": [
        "from sklearn.metrics import r2_score\n",
        "print(r2_score(y_test,y_pred))"
      ],
      "execution_count": 14,
      "outputs": [
        {
          "output_type": "stream",
          "text": [
            "0.794226914417073\n"
          ],
          "name": "stdout"
        }
      ]
    },
    {
      "cell_type": "markdown",
      "metadata": {
        "id": "9UFOyrN5r-1A"
      },
      "source": [
        "Ridge Regressor"
      ]
    },
    {
      "cell_type": "code",
      "metadata": {
        "id": "1_tQjgg-sCRi",
        "outputId": "887ae8fa-7343-4ced-e76b-ead25d3f4ddf",
        "colab": {
          "base_uri": "https://localhost:8080/",
          "height": 34
        }
      },
      "source": [
        "from sklearn.linear_model import Ridge\n",
        "ridge = Ridge(alpha=1)\n",
        "ridge.fit(X_train,y_train)\n",
        "y1 = ridge.predict(X_test)\n",
        "print(\"Value of r2 score at: \",r2_score(y_test,y1))"
      ],
      "execution_count": 15,
      "outputs": [
        {
          "output_type": "stream",
          "text": [
            "Value of r2 score at:  0.7942220340617815\n"
          ],
          "name": "stdout"
        }
      ]
    },
    {
      "cell_type": "markdown",
      "metadata": {
        "id": "vmoMRlqDsC77"
      },
      "source": [
        "Ridge Regressor CV"
      ]
    },
    {
      "cell_type": "code",
      "metadata": {
        "id": "K85wCAwwsILO",
        "outputId": "28770074-5276-435b-8012-f042ddad4a4a",
        "colab": {
          "base_uri": "https://localhost:8080/",
          "height": 68
        }
      },
      "source": [
        "from sklearn.linear_model import RidgeCV\n",
        "rid = RidgeCV(alphas = (0.1,0.5,1.0), scoring ='r2', cv = 5)\n",
        "rid.fit(X_train, y_train)\n",
        "print(\"Train score: \", rid.score(X_train,y_train))\n",
        "print(\"Test score: \", rid.score(X_test, y_test))\n",
        "y2 = rid.predict(X_test)\n",
        "print(\"Prediction score: \", r2_score(y_test, y2))"
      ],
      "execution_count": 17,
      "outputs": [
        {
          "output_type": "stream",
          "text": [
            "Train score:  0.7841675361842927\n",
            "Test score:  0.7942220340617815\n",
            "Prediction score:  0.7942220340617815\n"
          ],
          "name": "stdout"
        }
      ]
    }
  ]
}